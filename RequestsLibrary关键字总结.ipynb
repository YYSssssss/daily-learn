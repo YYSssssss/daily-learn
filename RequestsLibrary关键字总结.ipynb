{
 "cells": [
  {
   "cell_type": "markdown",
   "metadata": {},
   "source": [
    "#  get requests\n",
    "    - 发送一个get请求，并且返回一个响应对象\n",
    "    - alias：选择一个回话的别名，来自creat session关键字\n",
    "    - url：接口地址，不包含服务器地址\n",
    "    - params：get请求具体数据\n",
    "    - 返回值：response 对象（requests库的response对象）\n",
    "# to json\n",
    "    - 把响应数据json字符串转换成字典对象。可以通过RF中的C\n",
    "# response对象\n",
    "    - status_code : 当前http通信的状态码\n",
    "    - text : 响应数据的响应数据部分 - 字符串\n",
    "    - json : 转换成json对象"
   ]
  },
  {
   "cell_type": "markdown",
   "metadata": {},
   "source": [
    "# RequestsLibrary-接口测试\n",
    "    - 步骤：\n",
    "    - 调用Creat Session关键字，创建与服务器的连接：建立连接\n",
    "    - 使用Creat Dictionary关键字创建键值对的请求数据：准备请求数据\n",
    "    - 使用Get Requests/Post requests关键字，发送get请求或者post请求：发送请求并接收响应结果\n",
    "        - {resp} 接收响应结果\n",
    "        \n",
    "    - 获取响应的数据： {resp.text}\n",
    "    - 获取请求的状态： {resp.status_code}\n",
    "    "
   ]
  }
 ],
 "metadata": {
  "kernelspec": {
   "display_name": "Python 3",
   "language": "python",
   "name": "python3"
  },
  "language_info": {
   "codemirror_mode": {
    "name": "ipython",
    "version": 3
   },
   "file_extension": ".py",
   "mimetype": "text/x-python",
   "name": "python",
   "nbconvert_exporter": "python",
   "pygments_lexer": "ipython3",
   "version": "3.6.5"
  }
 },
 "nbformat": 4,
 "nbformat_minor": 2
}
