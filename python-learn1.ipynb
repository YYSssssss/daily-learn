{
 "cells": [
  {
   "cell_type": "code",
   "execution_count": 2,
   "metadata": {},
   "outputs": [
    {
     "name": "stdout",
     "output_type": "stream",
     "text": [
      "['False', 'None', 'True', 'and', 'as', 'assert', 'break', 'class', 'continue', 'def', 'del', 'elif', 'else', 'except', 'finally', 'for', 'from', 'global', 'if', 'import', 'in', 'is', 'lambda', 'nonlocal', 'not', 'or', 'pass', 'raise', 'return', 'try', 'while', 'with', 'yield']\n"
     ]
    }
   ],
   "source": [
    "# 查看关键字的办法\n",
    "import keyword #引入关键字模块\n",
    "#打印出系统全部关键字\n",
    "print(keyword.kwlist)"
   ]
  },
  {
   "cell_type": "code",
   "execution_count": 8,
   "metadata": {},
   "outputs": [],
   "source": [
    "# 变量声明\n",
    "var_name = 5\n",
    "var1=var2=var3 = 5\n",
    "var1,var2,var3 = 1,2,3"
   ]
  },
  {
   "cell_type": "code",
   "execution_count": 9,
   "metadata": {},
   "outputs": [
    {
     "name": "stdout",
     "output_type": "stream",
     "text": [
      "i love you\n"
     ]
    }
   ],
   "source": [
    "print(\"i love you\")"
   ]
  },
  {
   "cell_type": "code",
   "execution_count": 12,
   "metadata": {},
   "outputs": [],
   "source": [
    "#声明的三种格式\n",
    "s1 = \"我爱你\"\n",
    "s1 = s2 = \"woaini我爱你520\"\n",
    "s1,s2,s3 = \"woaini\",\"我爱你\",\"520\""
   ]
  },
  {
   "cell_type": "markdown",
   "metadata": {},
   "source": [
    "# 标准的数字类型\n",
    "- 数字Number\n",
    "- 字符串类型str\n",
    "- 列表list\n",
    "- 元组tuple\n",
    "- 字典dict\n",
    "- 集合set\n",
    "\n",
    "# 数字类型\n",
    "- 整数\n",
    "    - 没有小数部分\n",
    "    - 以0b开头的01串\n",
    "    - 例如：\n",
    "        - 0b110\n",
    "        - 0b11110\n",
    "- 浮点数\n",
    "- 科学计数法\n",
    "- 复数"
   ]
  },
  {
   "cell_type": "code",
   "execution_count": 26,
   "metadata": {},
   "outputs": [
    {
     "name": "stdout",
     "output_type": "stream",
     "text": [
      "57\n"
     ]
    }
   ],
   "source": [
    "# 八进制案例\n",
    "a3 = 0o71\n",
    "print(a3)"
   ]
  },
  {
   "cell_type": "code",
   "execution_count": 27,
   "metadata": {},
   "outputs": [
    {
     "name": "stdout",
     "output_type": "stream",
     "text": [
      "65535\n",
      "21490\n"
     ]
    }
   ],
   "source": [
    "# 十六进制案例\n",
    "a4 = 0xffff\n",
    "print(a4)\n",
    "\n",
    "a5 = 0x53f2\n",
    "print(a5)"
   ]
  },
  {
   "cell_type": "markdown",
   "metadata": {},
   "source": [
    "## 浮点数\n",
    "- 就是通俗意义上面的小数量\n",
    "- 常见的案例模式\n",
    "    - 3.1414926535\n",
    "    - 3.\n",
    "    - 0.4\n",
    "    - .4\n",
    "\n",
    "## 科学计数法\n",
    "    - 定义跟数学定义一致\n",
    "    - 写法就是e后面跟整数用来表示10的指数"
   ]
  },
  {
   "cell_type": "code",
   "execution_count": 29,
   "metadata": {},
   "outputs": [
    {
     "name": "stdout",
     "output_type": "stream",
     "text": [
      "184\n",
      "184.0\n",
      "0.2\n"
     ]
    }
   ],
   "source": [
    "# 科学计数法\n",
    "heigh = 184\n",
    "print(heigh)\n",
    "\n",
    "heigh = 1.84e2\n",
    "print(heigh)\n",
    "\n",
    "a = .2\n",
    "print(a)"
   ]
  },
  {
   "cell_type": "markdown",
   "metadata": {},
   "source": [
    "# 复数 complex\n",
    "- 与数学定义一致\n",
    "- 复数的虚部用j/J表示\n",
    "- 例如\n",
    "    - 5+4j\n",
    "    - 4j\n",
    "    - (4j)"
   ]
  },
  {
   "cell_type": "code",
   "execution_count": 30,
   "metadata": {},
   "outputs": [
    {
     "name": "stdout",
     "output_type": "stream",
     "text": [
      "4j\n"
     ]
    }
   ],
   "source": [
    "a = 4j\n",
    "print(a)"
   ]
  },
  {
   "cell_type": "markdown",
   "metadata": {},
   "source": [
    "# 布尔值\n",
    "- 用来表示真假的值，只有两种： True/False\n",
    "- python中，布尔值可以当数字使用\n",
    "    - 布尔值如果当数字使用，True=1，False=0\n",
    "    - 如果数字用来当布尔值使用，0=False，其余当作True"
   ]
  },
  {
   "cell_type": "code",
   "execution_count": 34,
   "metadata": {},
   "outputs": [
    {
     "name": "stdout",
     "output_type": "stream",
     "text": [
      "19\n",
      "18\n",
      "复数是True\n"
     ]
    }
   ],
   "source": [
    "# 布尔值当做数字使用\n",
    "age = 18 + True\n",
    "print(age)\n",
    "\n",
    "age = 18 + False\n",
    "print(age)\n",
    "\n",
    "# 判断语句\n",
    "a = -1\n",
    "if a :\n",
    "    print(\"复数是True\")\n",
    "else :\n",
    "    print(\"复数是False\")"
   ]
  },
  {
   "cell_type": "markdown",
   "metadata": {},
   "source": [
    "## 字符串\n",
    "- 引号引起来的一段内容\n",
    "- 引号包括：单引号，双信号，三引号，单双引号含义相同"
   ]
  },
  {
   "cell_type": "markdown",
   "metadata": {},
   "source": [
    "# None类型\n",
    "- 表示没有，通常用来占位\n",
    "- 比如返回，用来表示返回一个空"
   ]
  },
  {
   "cell_type": "markdown",
   "metadata": {},
   "source": [
    "# 表达式\n",
    "- 由一个或者几个数字或者变量或者运算符合成第一行代码\n",
    "- 通常返回一个结果\n",
    "\n",
    "# 运算符\n",
    "- 由一个以上的值经过一系列的运算得到新值的过程就就叫运算\n",
    "- 用来操作运算的符号叫做运算符\n",
    "- 运算符分类\n",
    "    - 算数运算符\n",
    "    - 比较或者关系运算符\n",
    "    - 赋值运算符\n",
    "    - 逻辑运算符\n",
    "    - 位运算\n",
    "    - 成员运算符\n",
    "    - 身份运算符"
   ]
  },
  {
   "cell_type": "code",
   "execution_count": null,
   "metadata": {},
   "outputs": [],
   "source": [
    "# 表达式案例\n",
    "a = 1+2"
   ]
  },
  {
   "cell_type": "code",
   "execution_count": 38,
   "metadata": {},
   "outputs": [
    {
     "name": "stdout",
     "output_type": "stream",
     "text": [
      "7\n",
      "11\n",
      "16\n",
      "4.5\n",
      "4\n",
      "1\n"
     ]
    }
   ],
   "source": [
    "# 算术运算符案例\n",
    "# 加减乘跟数学意义基本一致\n",
    "a = 9 - 2\n",
    "print(a)\n",
    "\n",
    "b = 9 + 2\n",
    "print(b)\n",
    "\n",
    "c = 8 * 2\n",
    "print(c)\n",
    "\n",
    "# 正常除\n",
    "a = 9 / 2\n",
    "print(a)\n",
    "\n",
    "#地板除\n",
    "a = 9 // 2\n",
    "print(a)\n",
    "\n",
    "#取余\n",
    "a = 9 % 2\n",
    "print(a)"
   ]
  },
  {
   "cell_type": "markdown",
   "metadata": {},
   "source": [
    "# 比较运算符\n",
    "- 对两个内容进行比较的运算符\n",
    "- 结果一定是布尔值，即 True/False"
   ]
  },
  {
   "cell_type": "code",
   "execution_count": 40,
   "metadata": {},
   "outputs": [
    {
     "name": "stdout",
     "output_type": "stream",
     "text": [
      "False\n",
      "True\n"
     ]
    }
   ],
   "source": [
    "# 等于 ==\n",
    "a = 3 == 4\n",
    "print(a)\n",
    "\n",
    "# 不等于 !=\n",
    "a = 3 != 4\n",
    "print(a)\n",
    "\n",
    "# 其他的符号<,>,<=,>="
   ]
  },
  {
   "cell_type": "markdown",
   "metadata": {},
   "source": [
    "# 赋值\n",
    "- 把一个值放到变量里面去"
   ]
  },
  {
   "cell_type": "code",
   "execution_count": 43,
   "metadata": {},
   "outputs": [
    {
     "name": "stdout",
     "output_type": "stream",
     "text": [
      "12\n"
     ]
    }
   ],
   "source": [
    "# 赋值符号 =\n",
    "a = 9\n",
    "\n",
    "a = b = c = 9\n",
    "\n",
    "a,b = 1,2\n",
    "\n",
    "c = c + 3\n",
    "\n",
    "print(c)"
   ]
  },
  {
   "cell_type": "markdown",
   "metadata": {},
   "source": [
    "# 逻辑运算符\n",
    "- 对布尔类型变量或者值进行运算的符号\n",
    "- and： 逻辑与\n",
    "- or ： 逻辑或\n",
    "- not： 逻辑非\n",
    "- python里面的逻辑运算没有异或\n",
    "    - and乘 ， or加\n",
    "    - True看做1，False看做0\n",
    "    - 则逻辑运算就能转换成整数数学运算\n",
    "    - 最后结果是0则为False，否则为True\n",
    "- 逻辑运算的短路问题\n",
    "    - 逻辑运算式，按照运算顺序计算，一旦能够确定整个式子未来的值，则不再进行计算，直接返回"
   ]
  },
  {
   "cell_type": "code",
   "execution_count": 44,
   "metadata": {},
   "outputs": [
    {
     "name": "stdout",
     "output_type": "stream",
     "text": [
      "False\n"
     ]
    }
   ],
   "source": [
    "L = [1,2,3,4,5,7]\n",
    "a = 6\n",
    "aa = a in L\n",
    "print(aa)"
   ]
  },
  {
   "cell_type": "markdown",
   "metadata": {},
   "source": [
    "# 身份运算符\n",
    "- 用来确定两个变量是否是同一变量\n",
    "- is：变量运算符\n",
    "- is not：不是"
   ]
  },
  {
   "cell_type": "code",
   "execution_count": 49,
   "metadata": {},
   "outputs": [
    {
     "name": "stdout",
     "output_type": "stream",
     "text": [
      "False\n",
      "True\n",
      "False\n"
     ]
    }
   ],
   "source": [
    "a = 1\n",
    "b = 3424242\n",
    "aa = a is b\n",
    "print(aa)\n",
    "\n",
    "a = 12\n",
    "b = 12\n",
    "aa = a is b\n",
    "print(aa)\n",
    "\n",
    "a = 334343434343\n",
    "b = 334343434343\n",
    "aa = a is b\n",
    "print(aa)"
   ]
  },
  {
   "cell_type": "markdown",
   "metadata": {},
   "source": [
    "# 程序结构\n",
    "- 程序三种结构\n",
    "    - 顺序\n",
    "    - 循环\n",
    "    - 分支"
   ]
  },
  {
   "cell_type": "markdown",
   "metadata": {},
   "source": [
    "## 分支结构\n",
    "- 分支结构基本语法\n",
    "    - if条件表达式：\n",
    "        - 语句1\n",
    "        - 。。。。。。\n",
    "- 条件表达式就是计算结果必须为布尔值的表达式\n",
    "- 表达式后面的冒号不能少\n",
    "- 注意if后面的出现的语句，如果属于if语句块，则必须同一个缩进等级\n",
    "- 条件表达式结果为True执行if后面的缩进的语句块"
   ]
  },
  {
   "cell_type": "code",
   "execution_count": 50,
   "metadata": {},
   "outputs": [
    {
     "name": "stdout",
     "output_type": "stream",
     "text": [
      "123456\n",
      "dhdhdh\n",
      "hahahaha\n"
     ]
    }
   ],
   "source": [
    "a = \"我去年买了个表\"\n",
    "\n",
    "if a:\n",
    "    print(\"123456\")\n",
    "    print(\"dhdhdh\")\n",
    "    \n",
    "print(\"hahahaha\")"
   ]
  },
  {
   "cell_type": "code",
   "execution_count": 51,
   "metadata": {},
   "outputs": [
    {
     "name": "stdout",
     "output_type": "stream",
     "text": [
      "nb\n",
      "12345\n"
     ]
    }
   ],
   "source": [
    "age = 21\n",
    "if age > 16:\n",
    "    print(\"nb\")\n",
    "print(\"12345\")"
   ]
  },
  {
   "cell_type": "markdown",
   "metadata": {},
   "source": [
    "# 双向分支\n",
    "- if....else....表达\n",
    "- 语法结构：\n",
    "    if条件表达式：\n",
    "      语句1\n",
    "      ......\n",
    "    else:\n",
    "      语句3\n",
    "      ......"
   ]
  },
  {
   "cell_type": "code",
   "execution_count": 55,
   "metadata": {},
   "outputs": [
    {
     "name": "stdout",
     "output_type": "stream",
     "text": [
      "请输入母鸡\n",
      "母鸡\n",
      "dddd\n",
      "aaaa\n"
     ]
    }
   ],
   "source": [
    "# input的作用是\n",
    "# 1.在屏幕上输出括号内的字符串\n",
    "# 2.接受用户输入的内容并返回到程序\n",
    "# 3.input返回的内容一定是字符串类型\n",
    "\n",
    "#　input负责接受用户输入并把内容返回给变量\n",
    "gender = input(\"请输入\")\n",
    "# 打印输入的内容\n",
    "print(gender)\n",
    "\n",
    "if gender == \"man\":\n",
    "    print(\"1234\")\n",
    "    print(\"5678\")\n",
    "else:\n",
    "    print(\"dddd\")\n",
    "    print(\"aaaa\")"
   ]
  },
  {
   "cell_type": "code",
   "execution_count": 57,
   "metadata": {},
   "outputs": [
    {
     "name": "stdout",
     "output_type": "stream",
     "text": [
      "请输入您的性别：man\n",
      "man\n",
      "1234\n",
      "5678\n"
     ]
    }
   ],
   "source": [
    "gender = input(\"请输入您的性别：\")\n",
    "# 打印输入的内容\n",
    "print(gender)\n",
    "\n",
    "if gender == \"man\":\n",
    "    print(\"1234\")\n",
    "    print(\"5678\")\n",
    "else:\n",
    "    print(\"dddd\")\n",
    "    print(\"aaaa\")"
   ]
  },
  {
   "cell_type": "code",
   "execution_count": 59,
   "metadata": {},
   "outputs": [
    {
     "name": "stdout",
     "output_type": "stream",
     "text": [
      "请输入成绩，必须是数字呀：９８\n",
      "不错\n"
     ]
    }
   ],
   "source": [
    "# 考试成绩判断\n",
    "# 成绩由用户输入\n",
    "# ９０以上：输出优秀\n",
    "# 80-90:良\n",
    "# 70-80:中\n",
    "# ６0-７0:平\n",
    "# ６０以下：　输出：我没学\n",
    "\n",
    "# 输入成绩，需要用到input函数\n",
    "# input输入的值全部是字符串类型\n",
    "score = input(\"请输入成绩，必须是数字呀：\")\n",
    "score = int(score)\n",
    "if score > 90 :\n",
    "    print(\"不错\")\n",
    "if score >＝ 80 and score < 90:\n",
    "    print(\"一般\")"
   ]
  },
  {
   "cell_type": "markdown",
   "metadata": {},
   "source": [
    "# 循环语句\n",
    "- 重复执行某一个固定的动作或者任务\n",
    "- 分类\n",
    "    - for\n",
    "    - while\n",
    "\n",
    "# for循环\n",
    "- 语法\n",
    "    \n",
    "    for 变量　in 序列:\n",
    "      语句１\n",
    "      ...."
   ]
  },
  {
   "cell_type": "code",
   "execution_count": 61,
   "metadata": {},
   "outputs": [
    {
     "name": "stdout",
     "output_type": "stream",
     "text": [
      "1\n",
      "101\n",
      "1001\n",
      "2\n",
      "102\n",
      "1002\n",
      "3\n",
      "103\n",
      "1003\n",
      "4\n",
      "104\n",
      "1004\n",
      "5\n",
      "105\n",
      "1005\n",
      "6\n",
      "106\n",
      "1006\n",
      "7\n",
      "107\n",
      "1007\n"
     ]
    }
   ],
   "source": [
    "# [1,2,3,4,5,6,7]\n",
    "list_one = [1,2,3,4,5,6,7]\n",
    "\n",
    "for shuzi in list_one :\n",
    "    print(shuzi)\n",
    "    print(shuzi+100)\n",
    "    print(shuzi+1000)"
   ]
  },
  {
   "cell_type": "code",
   "execution_count": 62,
   "metadata": {},
   "outputs": [
    {
     "name": "stdout",
     "output_type": "stream",
     "text": [
      "dsa\n",
      "dsadsa\n",
      "dsadsa\n"
     ]
    }
   ],
   "source": [
    "stu_list = ['123','456','789']\n",
    "\n",
    "for stu in stu_list:\n",
    "    if stu == '123':\n",
    "        print(\"dsa\")\n",
    "    else:\n",
    "        print(\"dsadsa\")"
   ]
  },
  {
   "cell_type": "code",
   "execution_count": 63,
   "metadata": {},
   "outputs": [
    {
     "name": "stdout",
     "output_type": "stream",
     "text": [
      "dsa\n",
      "dsadsa\n",
      "dsadsa\n",
      "hdfgh\n"
     ]
    }
   ],
   "source": [
    "stu_list = ['123','456','789']\n",
    "\n",
    "for stu in stu_list:\n",
    "    if stu == '123':\n",
    "        print(\"dsa\")\n",
    "    else:\n",
    "        print(\"dsadsa\")\n",
    "else:\n",
    "    print(\"hdfgh\")"
   ]
  },
  {
   "cell_type": "markdown",
   "metadata": {},
   "source": [
    "# break,continue,pass\n",
    "- break:　无条件结束整个循环，简称循环猝死\n",
    "- continue:继续\n",
    "- pass:只是占位符"
   ]
  },
  {
   "cell_type": "code",
   "execution_count": 64,
   "metadata": {},
   "outputs": [
    {
     "name": "stdout",
     "output_type": "stream",
     "text": [
      "3\n",
      "4\n",
      "5\n",
      "6\n",
      "找到了\n"
     ]
    }
   ],
   "source": [
    "dig_list = [3,4,5,6,7,8,9]\n",
    "for dig in dig_list :\n",
    "    if dig == 7:\n",
    "        print(\"找到了\")\n",
    "        break\n",
    "    else:\n",
    "        print(dig)"
   ]
  },
  {
   "cell_type": "code",
   "execution_count": 65,
   "metadata": {},
   "outputs": [
    {
     "name": "stdout",
     "output_type": "stream",
     "text": [
      "2\n",
      "双的\n",
      "4\n",
      "双的\n",
      "6\n",
      "双的\n",
      "8\n",
      "双的\n",
      "10\n",
      "双的\n"
     ]
    }
   ],
   "source": [
    "dig_list = [1,2,3,4,5,6,7,8,9,10]\n",
    "for dig in dig_list:\n",
    "    if dig % 2 == 0 :\n",
    "        print(dig)\n",
    "        print(\"双的\")\n",
    "    else:\n",
    "        continue"
   ]
  },
  {
   "cell_type": "code",
   "execution_count": 67,
   "metadata": {},
   "outputs": [],
   "source": [
    "dig_list = [1,2,3,4,5,6,7,8,9,10]\n",
    "for dig in dig_list:\n",
    "    if dig % 2 == 1 :\n",
    "        continue\n",
    "        \n",
    "        print(dig)\n",
    "        print(\"双的\")\n"
   ]
  },
  {
   "cell_type": "code",
   "execution_count": 69,
   "metadata": {},
   "outputs": [
    {
     "name": "stdout",
     "output_type": "stream",
     "text": [
      "laji\n"
     ]
    }
   ],
   "source": [
    "# pass案例\n",
    "age = 19\n",
    "if age >19:\n",
    "    pass\n",
    "else:\n",
    "    print(\"laji\")"
   ]
  },
  {
   "cell_type": "code",
   "execution_count": 72,
   "metadata": {},
   "outputs": [
    {
     "name": "stdout",
     "output_type": "stream",
     "text": [
      "21\n",
      "22\n",
      "23\n",
      "24\n"
     ]
    }
   ],
   "source": [
    "ages = [21,22,23,24]\n",
    "for age in ages:\n",
    "    pass\n",
    "    print(age)"
   ]
  },
  {
   "cell_type": "markdown",
   "metadata": {},
   "source": [
    "# range函数\n",
    "- 生成有序数列\n"
   ]
  },
  {
   "cell_type": "code",
   "execution_count": null,
   "metadata": {},
   "outputs": [],
   "source": []
  },
  {
   "cell_type": "code",
   "execution_count": null,
   "metadata": {},
   "outputs": [],
   "source": []
  },
  {
   "cell_type": "code",
   "execution_count": null,
   "metadata": {},
   "outputs": [],
   "source": []
  },
  {
   "cell_type": "code",
   "execution_count": null,
   "metadata": {},
   "outputs": [],
   "source": []
  }
 ],
 "metadata": {
  "kernelspec": {
   "display_name": "Python 3",
   "language": "python",
   "name": "python3"
  },
  "language_info": {
   "codemirror_mode": {
    "name": "ipython",
    "version": 3
   },
   "file_extension": ".py",
   "mimetype": "text/x-python",
   "name": "python",
   "nbconvert_exporter": "python",
   "pygments_lexer": "ipython3",
   "version": "3.6.5"
  }
 },
 "nbformat": 4,
 "nbformat_minor": 2
}
